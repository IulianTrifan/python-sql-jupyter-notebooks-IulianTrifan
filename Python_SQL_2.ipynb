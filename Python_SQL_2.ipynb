{
 "cells": [
  {
   "cell_type": "markdown",
   "metadata": {},
   "source": [
    "# SQL Learning Activities\n",
    "\n",
    "Complete all the tasks below in a Jupyter notebook using a mixture of Python and SQL.\n"
   ]
  },
  {
   "cell_type": "markdown",
   "metadata": {},
   "source": [
    "**1)** Create a SQL database called **email_addresses** that contains a table called **names** with the following data:\n",
    "\n",
    "| ID | FirstName | Surname   | Email                  |\n",
    "|----|-----------|-----------|------------------------|\n",
    "| 1  | Mark      | Campbell  | markcampbell@ada.ac.uk |\n",
    "| 2  | Steve     | Rich      | steve@ada.ac.uk        |\n",
    "| 3  | Ian       | Dickerson | ian@ada.ac.uk          |\n",
    "| 4  | Vicky     | Clarke    | vicky@ada.ac.uk        |\n",
    "| 5  | Stuart    | Noss      | stuart@ada.ac.uk       |\n"
   ]
  },
  {
   "cell_type": "code",
   "execution_count": 12,
   "metadata": {},
   "outputs": [
    {
     "data": {
      "text/plain": [
       "<sqlite3.Cursor at 0x7faa60557960>"
      ]
     },
     "execution_count": 12,
     "metadata": {},
     "output_type": "execute_result"
    }
   ],
   "source": [
    "import sqlite3\n",
    "with sqlite3.connect(\"email_addresses\") as db:\n",
    "    cursor = db.cursor()\n",
    "\n",
    "cursor.execute(\"\"\"CREATE TABLE IF NOT EXISTS names(ID integer PRIMARY KEY, \n",
    "FirstName text NOT NULL, Surname text NOT NULL, Email text NOT NULL);\"\"\")"
   ]
  },
  {
   "cell_type": "code",
   "execution_count": 11,
   "metadata": {},
   "outputs": [
    {
     "name": "stdout",
     "output_type": "stream",
     "text": [
      "Enter unique person ID number: 5\n",
      "Enter name: Stuart\n",
      "Enter surname: Noss\n",
      "Enter their email: stuart@ada.ac.uk\n",
      "[(1, 'Mark', 'Campbell', 'markcampbell@ada.ac.uk'), (2, 'Steve', 'Rich', 'steve@ada.ac.uk'), (3, 'Ian', 'Dickerson', 'ian@ada.ac.uk'), (4, 'Vicky', 'Clarke', 'vicky@ada.ac.uk'), (5, 'Stuart', 'Noss', 'stuart@ada.ac.uk')]\n"
     ]
    }
   ],
   "source": [
    "newID = input(\"Enter unique person ID number: \")\n",
    "newName = input(\"Enter name: \")\n",
    "newSurname = input(\"Enter surname: \")\n",
    "newEmail = input(\"Enter their email: \")\n",
    "\n",
    "cursor.execute((\"\"\"INSERT INTO names VALUES(?,?,?,?)\"\"\"),(newID, newName, newSurname, newEmail))\n",
    "db.commit()\n",
    "\n",
    "cursor.execute(\"SELECT * from names\")\n",
    "print(cursor.fetchall())"
   ]
  },
  {
   "cell_type": "code",
   "execution_count": 9,
   "metadata": {},
   "outputs": [],
   "source": []
  },
  {
   "cell_type": "markdown",
   "metadata": {},
   "source": [
    "**2)** Create a new SQL database called BookInfo that will store a list of authors and the books they wrtoe. It will have two tables. The first one should be called **authors** and contain the following data:\n",
    "\n",
    "| Name                | Place of Birth |\n",
    "|---------------------|----------------|\n",
    "| HP Lovecraft        | Providence     |\n",
    "| Ramsey Campbell     | Liverpool      |\n",
    "| August Derleth      | Sauk City      |\n",
    "| Robert A.W. Lowndes | Rhode Island   |\n",
    "\n",
    "The second one should be called **books** and contain the following data:\n",
    "\n",
    "| ID | Title                           | Author              | Year Published |\n",
    "|----|---------------------------------|---------------------|----------------|\n",
    "| 1  | Call of Cthulhu                 | HP Lovecraft        | 1928           |\n",
    "| 2  | The Last Voice They Hear        | Ramsey Campbell     | 1998           |\n",
    "| 3  | Believer's World                | Robert A.W. Lowndes | 1961           |\n",
    "| 4  | The Case of Charles Dexter Ward | HP Lovecraft        | 1941           |\n",
    "| 5  | Something Near                  | August Derleth      | 1945           |\n",
    "| 6  | Lonesome Places                 | August Derleth      | 1962           |\n",
    "| 7  | From Beyond                     | HP Lovecraft        | 1934           |\n",
    "| 8  | Dwellers in Darkness            | August Derleth      | 1976           |\n",
    "| 9  | The Long Lost                   | Ramsey Campbell     | 1983           |\n",
    "| 10 | The Duplicated Man              | Robert A.W. Lowndes | 1959           |\n",
    "| 11 | The Tomb                        | HP Lovecraft        | 1922           |\n",
    "| 12 | The Claw                        | Ramsey Campbell     | 1983           |"
   ]
  },
  {
   "cell_type": "code",
   "execution_count": 7,
   "metadata": {},
   "outputs": [
    {
     "data": {
      "text/plain": [
       "<sqlite3.Cursor at 0x7f6ee777e420>"
      ]
     },
     "execution_count": 7,
     "metadata": {},
     "output_type": "execute_result"
    }
   ],
   "source": [
    "import sqlite3\n",
    "with sqlite3.connect(\"BookInfo\") as db:\n",
    "    cursor = db.cursor()\n",
    "\n",
    "cursor.execute(\"\"\"CREATE TABLE IF NOT EXISTS authors(authorName text NOT NULL, PlaceOfBirth text NOT NULL);\"\"\")"
   ]
  },
  {
   "cell_type": "code",
   "execution_count": 19,
   "metadata": {},
   "outputs": [
    {
     "name": "stdout",
     "output_type": "stream",
     "text": [
      "Enter new author name: Robert A.W. Lowndes\n",
      "Enter place of birth: Rhode Island\n"
     ]
    }
   ],
   "source": [
    "newName = input(\"Enter new author name: \")\n",
    "newPOB = input(\"Enter place of birth: \")\n",
    "\n",
    "cursor.execute((\"\"\"INSERT INTO authors VALUES(?,?)\"\"\"),(newName, newPOB,))\n",
    "db.commit()"
   ]
  },
  {
   "cell_type": "code",
   "execution_count": 20,
   "metadata": {},
   "outputs": [
    {
     "name": "stdout",
     "output_type": "stream",
     "text": [
      "[('HP Lovecraft', 'Providence'), ('Ramsey Campbell', 'Liverpool'), ('August Derleth', 'Sauk City'), ('Robert A.W. Lowndes', 'Rhode Island')]\n"
     ]
    }
   ],
   "source": [
    "cursor.execute(\"SELECT * from authors\")\n",
    "print(cursor.fetchall())"
   ]
  },
  {
   "cell_type": "code",
   "execution_count": 12,
   "metadata": {},
   "outputs": [
    {
     "data": {
      "text/plain": [
       "<sqlite3.Cursor at 0x7fe6b4d2d1f0>"
      ]
     },
     "execution_count": 12,
     "metadata": {},
     "output_type": "execute_result"
    }
   ],
   "source": [
    "import sqlite3\n",
    "with sqlite3.connect(\"BookInfo\") as db:\n",
    "    cursor = db.cursor()\n",
    "\n",
    "cursor.execute(\"\"\"CREATE TABLE IF NOT EXISTS books(bookID integer PRIMARY KEY, bookTitle text NOT NULL,\n",
    "authorName text NOT NULL, yearPublished integer NOT NULL);\"\"\")"
   ]
  },
  {
   "cell_type": "code",
   "execution_count": 18,
   "metadata": {},
   "outputs": [
    {
     "name": "stdout",
     "output_type": "stream",
     "text": [
      "Enter new book ID: 12\n",
      "Enter the new book title: The Claw\n",
      "Enter new author name: Ramsey Campbell\n",
      "Enter year published: 1983\n"
     ]
    }
   ],
   "source": [
    "newID = input(\"Enter new book ID: \")\n",
    "newBookTitle = input(\"Enter the new book title: \")\n",
    "newAuthor = input(\"Enter new author name: \")\n",
    "newYearPublished = input(\"Enter year published: \")\n",
    "\n",
    "cursor.execute((\"\"\"INSERT INTO books VALUES(?,?,?,?)\"\"\"),(newID, newBookTitle, newAuthor, newYearPublished))\n",
    "db.commit()"
   ]
  },
  {
   "cell_type": "code",
   "execution_count": 19,
   "metadata": {},
   "outputs": [
    {
     "name": "stdout",
     "output_type": "stream",
     "text": [
      "[(1, 'Call of Cthulhu', 'HP Lovecraft', 1928), (2, 'The Last Voice They Hear', 'Ramsey Campbell', 1998), (3, \"Believer's World\", 'Robert A.W. Lowndes', 1961), (4, 'The Case of Charles Dexter Ward', 'HP Lovecraft\\t', 1941), (5, 'Something Near', 'August Derleth', 1945), (6, 'Lonesome Places', 'August Derleth', 1962), (7, 'From Beyond', 'HP Lovecraft', 1934), (8, 'Dwellers in Darkness', 'August Derleth', 1976), (9, 'The Long Lost', 'Ramsey Campbell', 1983), (10, 'The Duplicated Man', 'Robert A.W. Lowndes', 1959), (11, 'The Tomb', 'HP Lovecraft', 1922), (12, 'The Claw', 'Ramsey Campbell', 1983)]\n"
     ]
    }
   ],
   "source": [
    "cursor.execute(\"SELECT * from books\")\n",
    "print(cursor.fetchall())"
   ]
  },
  {
   "cell_type": "markdown",
   "metadata": {},
   "source": [
    "**3)** Using the BookInfo database from question 2 above, display the list of authors and their place of birth. Ask the user to enter a place of birth and then show the title, date published and author's name for all the books by authors who were born in the location they selected."
   ]
  },
  {
   "cell_type": "code",
   "execution_count": 1,
   "metadata": {},
   "outputs": [
    {
     "name": "stdout",
     "output_type": "stream",
     "text": [
      "[('HP Lovecraft', 'Providence'), ('Ramsey Campbell', 'Liverpool'), ('August Derleth', 'Sauk City'), ('Robert A.W. Lowndes', 'Rhode Island')]\n"
     ]
    }
   ],
   "source": [
    "import sqlite3\n",
    "with sqlite3.connect(\"BookInfo\") as db:\n",
    "    cursor = db.cursor()\n",
    "\n",
    "cursor.execute(\"SELECT * from authors\")\n",
    "print(cursor.fetchall())"
   ]
  },
  {
   "cell_type": "code",
   "execution_count": 41,
   "metadata": {},
   "outputs": [
    {
     "name": "stdout",
     "output_type": "stream",
     "text": [
      "Please enter one of the places of birth mentioned above: Liverpool\n",
      "[('The Last Voice They Hear', 1998, 'Ramsey Campbell'), ('The Long Lost', 1983, 'Ramsey Campbell'), ('The Claw', 1983, 'Ramsey Campbell')]\n"
     ]
    }
   ],
   "source": [
    "POB = input(\"Please enter one of the places of birth mentioned above: \")\n",
    "\n",
    "cursor.execute(\"SELECT Name from authors WHERE PlaceOfBirth =?\",[POB])\n",
    "global data\n",
    "data = []\n",
    "\n",
    "data = cursor.fetchall()\n",
    "\n",
    "for item in data:\n",
    "    line = str(item)[2:-3] #here, characters are removed, the '2' stands for the first 2, and the '-3' stands for the last 3\n",
    "    cursor2 = db.cursor()\n",
    "    cursor2.execute(\"SELECT bookTitle, yearPublished, author from books WHERE author  =? \", [line])\n",
    "    \n",
    "    print(cursor2.fetchall())\n"
   ]
  },
  {
   "cell_type": "markdown",
   "metadata": {},
   "source": [
    "**4)** Using the BookInfo database, ask the user to enter a year and display all the books published after that year, sorted by the year they were published."
   ]
  },
  {
   "cell_type": "code",
   "execution_count": 10,
   "metadata": {},
   "outputs": [],
   "source": [
    "import sqlite3\n",
    "with sqlite3.connect(\"BookInfo\") as db:\n",
    "    cursor = db.cursor()"
   ]
  },
  {
   "cell_type": "code",
   "execution_count": 11,
   "metadata": {},
   "outputs": [
    {
     "name": "stdout",
     "output_type": "stream",
     "text": [
      "Enter a year1940\n"
     ]
    }
   ],
   "source": [
    "year = input(\"Enter a year\")"
   ]
  },
  {
   "cell_type": "code",
   "execution_count": 14,
   "metadata": {},
   "outputs": [
    {
     "name": "stdout",
     "output_type": "stream",
     "text": [
      "[('The Case of Charles Dexter Ward', 1941), ('Something Near', 1945), ('The Duplicated Man', 1959), (\"Believer's World\", 1961), ('Lonesome Places', 1962), ('Dwellers in Darkness', 1976), ('The Long Lost', 1983), ('The Claw', 1983), ('The Last Voice They Hear', 1998)]\n"
     ]
    }
   ],
   "source": [
    "cursor.execute(\"SELECT bookTitle, yearPublished from books WHERE yearPublished > ? ORDER BY yearPublished ASC\",[year])\n",
    "print(cursor.fetchall())\n"
   ]
  },
  {
   "cell_type": "code",
   "execution_count": 15,
   "metadata": {},
   "outputs": [],
   "source": [
    "db.close()"
   ]
  }
 ],
 "metadata": {
  "kernelspec": {
   "display_name": "Python 3",
   "language": "python",
   "name": "python3"
  },
  "language_info": {
   "codemirror_mode": {
    "name": "ipython",
    "version": 3
   },
   "file_extension": ".py",
   "mimetype": "text/x-python",
   "name": "python",
   "nbconvert_exporter": "python",
   "pygments_lexer": "ipython3",
   "version": "3.6.8"
  }
 },
 "nbformat": 4,
 "nbformat_minor": 2
}
